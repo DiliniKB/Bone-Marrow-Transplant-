{
  "nbformat": 4,
  "nbformat_minor": 0,
  "metadata": {
    "colab": {
      "provenance": [],
      "collapsed_sections": [],
      "authorship_tag": "ABX9TyPOAScB/9vECKOd7vZBMMp9",
      "include_colab_link": true
    },
    "kernelspec": {
      "name": "python3",
      "display_name": "Python 3"
    },
    "language_info": {
      "name": "python"
    }
  },
  "cells": [
    {
      "cell_type": "markdown",
      "metadata": {
        "id": "view-in-github",
        "colab_type": "text"
      },
      "source": [
        "<a href=\"https://colab.research.google.com/github/DiliniKB/Bone-Marrow-Transplant-/blob/main/A2.ipynb\" target=\"_parent\"><img src=\"https://colab.research.google.com/assets/colab-badge.svg\" alt=\"Open In Colab\"/></a>"
      ]
    },
    {
      "cell_type": "code",
      "execution_count": 153,
      "metadata": {
        "id": "amfO-B0PHBcA"
      },
      "outputs": [],
      "source": [
        "#libraries\n",
        "import numpy as np\n",
        "import matplotlib.pyplot as plt\n",
        "import pandas as pd\n",
        "from scipy.io import arff\n",
        "# import warnings\n",
        "# warnings.filterwarnings('ignore')"
      ]
    },
    {
      "cell_type": "code",
      "source": [
        "dataini = arff.loadarff('bone-marrow.arff')\n",
        "data = pd.DataFrame(dataini[0])"
      ],
      "metadata": {
        "id": "jZ--LR5qNJ45"
      },
      "execution_count": 154,
      "outputs": []
    },
    {
      "cell_type": "code",
      "source": [
        "columns = ['Recipientgender', 'Stemcellsource', 'Donorage35', 'IIIV','Gendermatch', 'DonorABO','Riskgroup','Txpostrelapse', 'Diseasegroup', 'HLAmatch', 'HLAmismatch', 'HLAgrI', 'Recipientage', 'Recipientage10', 'Recipientageint', 'Relapse', 'aGvHDIIIIV', 'CD34kgx10d6', 'ANCrecovery', 'PLTrecovery','time_to_aGvHD_III_IV', 'survival_time',]"
      ],
      "metadata": {
        "id": "h1a3nZFjog0Z"
      },
      "execution_count": 155,
      "outputs": []
    },
    {
      "cell_type": "code",
      "source": [
        "#data preprocessing\n",
        "for attribute in columns:\n",
        "  try:\n",
        "    data[attribute] = data[attribute].astype(str)\n",
        "    data[attribute] = data[attribute].str.replace(r'\\D', '').astype(int)\n",
        "  except:\n",
        "    print(attribute)"
      ],
      "metadata": {
        "id": "5BNMuk7GpWGT"
      },
      "execution_count": 156,
      "outputs": []
    },
    {
      "cell_type": "code",
      "source": [
        "#x,y selection\n",
        "X = data[columns]\n",
        "Y = data['survival_status']"
      ],
      "metadata": {
        "id": "mK5Vje8GNzy9"
      },
      "execution_count": 157,
      "outputs": []
    },
    {
      "cell_type": "code",
      "source": [
        "from sklearn.model_selection import train_test_split"
      ],
      "metadata": {
        "id": "13M8KHJvYDSQ"
      },
      "execution_count": 158,
      "outputs": []
    },
    {
      "cell_type": "code",
      "source": [
        "X_train, X_test, Y_train, Y_test = train_test_split(X, Y, test_size=0.3)"
      ],
      "metadata": {
        "id": "ZJQX2BKzY9uJ"
      },
      "execution_count": 159,
      "outputs": []
    },
    {
      "cell_type": "code",
      "source": [
        "#Import Random Forest Model\n",
        "from sklearn.ensemble import RandomForestClassifier"
      ],
      "metadata": {
        "id": "RAEznv4qb_kW"
      },
      "execution_count": 160,
      "outputs": []
    },
    {
      "cell_type": "code",
      "source": [
        "#Create a Gaussian Classifier\n",
        "clf=RandomForestClassifier(n_estimators=100)\n",
        "\n",
        "#Train the model using the training sets y_pred=clf.predict(X_test)\n",
        "clf.fit(X_train,Y_train)\n",
        "\n",
        "y_pred=clf.predict(X_test)"
      ],
      "metadata": {
        "id": "GEDhjNrfcDEV"
      },
      "execution_count": 161,
      "outputs": []
    },
    {
      "cell_type": "code",
      "source": [
        "#Import scikit-learn metrics module for accuracy calculation\n",
        "from sklearn import metrics\n",
        "\n",
        "print(\"Accuracy:\",metrics.accuracy_score(Y_test, y_pred))"
      ],
      "metadata": {
        "colab": {
          "base_uri": "https://localhost:8080/"
        },
        "id": "skfjqV0Drc7Z",
        "outputId": "b67870cc-4266-47d6-8678-05972630e313"
      },
      "execution_count": 162,
      "outputs": [
        {
          "output_type": "stream",
          "name": "stdout",
          "text": [
            "Accuracy: 0.9122807017543859\n"
          ]
        }
      ]
    },
    {
      "cell_type": "code",
      "source": [
        "#testing a sample data\n",
        "\n",
        "sample = X_test.iloc[0]\n",
        "sample.Stemcellsource = 1\n",
        "sample.survival_time = 15640\n",
        "sample.Diseasegroup = 0"
      ],
      "metadata": {
        "id": "3l3fO5n5uYSb"
      },
      "execution_count": 163,
      "outputs": []
    },
    {
      "cell_type": "code",
      "source": [
        "if(clf.predict([sample])[0]== 1):\n",
        "  print(\"Survive\")\n",
        "else:\n",
        "  print(\"Not Survive\")"
      ],
      "metadata": {
        "colab": {
          "base_uri": "https://localhost:8080/"
        },
        "id": "KGvj7ypLuRNE",
        "outputId": "efd2dcce-8c17-4153-ae17-a0e00d482e41"
      },
      "execution_count": 164,
      "outputs": [
        {
          "output_type": "stream",
          "name": "stdout",
          "text": [
            "Not Survive\n"
          ]
        }
      ]
    }
  ]
}