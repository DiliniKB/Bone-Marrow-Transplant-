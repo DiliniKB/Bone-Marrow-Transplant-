{
  "nbformat": 4,
  "nbformat_minor": 0,
  "metadata": {
    "colab": {
      "provenance": [],
      "collapsed_sections": [],
      "authorship_tag": "ABX9TyOxoClzEm5eHwE8sv+tiKE4",
      "include_colab_link": true
    },
    "kernelspec": {
      "name": "python3",
      "display_name": "Python 3"
    },
    "language_info": {
      "name": "python"
    }
  },
  "cells": [
    {
      "cell_type": "markdown",
      "metadata": {
        "id": "view-in-github",
        "colab_type": "text"
      },
      "source": [
        "<a href=\"https://colab.research.google.com/github/DiliniKB/Bone-Marrow-Transplant-/blob/main/A2.ipynb\" target=\"_parent\"><img src=\"https://colab.research.google.com/assets/colab-badge.svg\" alt=\"Open In Colab\"/></a>"
      ]
    },
    {
      "cell_type": "code",
      "execution_count": null,
      "metadata": {
        "id": "amfO-B0PHBcA"
      },
      "outputs": [],
      "source": [
        "#libraries\n",
        "import numpy as np\n",
        "import matplotlib.pyplot as plt\n",
        "import pandas as pd\n",
        "from scipy.io import arff"
      ]
    },
    {
      "cell_type": "code",
      "source": [
        "dataini = arff.loadarff('bone-marrow.arff')\n",
        "data = pd.DataFrame(dataini[0])"
      ],
      "metadata": {
        "id": "jZ--LR5qNJ45"
      },
      "execution_count": null,
      "outputs": []
    },
    {
      "cell_type": "code",
      "source": [
        "columns = ['Recipientgender', 'Stemcellsource', 'Donorage35', 'IIIV','Gendermatch', 'DonorABO','Riskgroup','Txpostrelapse', 'Diseasegroup', 'HLAmatch', 'HLAmismatch', 'HLAgrI', 'Recipientage', 'Recipientage10', 'Recipientageint', 'Relapse', 'aGvHDIIIIV', 'CD34kgx10d6', 'ANCrecovery', 'PLTrecovery','time_to_aGvHD_III_IV', 'survival_time',]"
      ],
      "metadata": {
        "id": "h1a3nZFjog0Z"
      },
      "execution_count": 99,
      "outputs": []
    },
    {
      "cell_type": "code",
      "source": [
        "#data preprocessing\n",
        "for attribute in columns:\n",
        "  try:\n",
        "    data[attribute] = data[attribute].astype(str)\n",
        "    data[attribute] = data[attribute].str.replace(r'\\D', '').astype(int)\n",
        "  except:\n",
        "    print(attribute)"
      ],
      "metadata": {
        "colab": {
          "base_uri": "https://localhost:8080/"
        },
        "id": "5BNMuk7GpWGT",
        "outputId": "d71a2346-c83f-44fd-ce4e-2dcacc56203c"
      },
      "execution_count": 100,
      "outputs": [
        {
          "output_type": "stream",
          "name": "stderr",
          "text": [
            "/usr/local/lib/python3.7/dist-packages/ipykernel_launcher.py:4: FutureWarning: The default value of regex will change from True to False in a future version.\n",
            "  after removing the cwd from sys.path.\n"
          ]
        }
      ]
    },
    {
      "cell_type": "code",
      "source": [
        "#x,y selection\n",
        "X = data[columns]\n",
        "Y = data['survival_status']"
      ],
      "metadata": {
        "id": "mK5Vje8GNzy9"
      },
      "execution_count": 101,
      "outputs": []
    },
    {
      "cell_type": "code",
      "source": [
        "from sklearn.model_selection import train_test_split"
      ],
      "metadata": {
        "id": "13M8KHJvYDSQ"
      },
      "execution_count": 106,
      "outputs": []
    },
    {
      "cell_type": "code",
      "source": [
        "X_train, X_test, Y_train, Y_test = train_test_split(X, Y, test_size=0.3)"
      ],
      "metadata": {
        "id": "ZJQX2BKzY9uJ"
      },
      "execution_count": 107,
      "outputs": []
    },
    {
      "cell_type": "code",
      "source": [
        "#Import Random Forest Model\n",
        "from sklearn.ensemble import RandomForestClassifier"
      ],
      "metadata": {
        "id": "RAEznv4qb_kW"
      },
      "execution_count": 109,
      "outputs": []
    },
    {
      "cell_type": "code",
      "source": [
        "#Create a Gaussian Classifier\n",
        "clf=RandomForestClassifier(n_estimators=100)\n",
        "\n",
        "#Train the model using the training sets y_pred=clf.predict(X_test)\n",
        "clf.fit(X_train,Y_train)\n",
        "\n",
        "y_pred=clf.predict(X_test)"
      ],
      "metadata": {
        "id": "GEDhjNrfcDEV"
      },
      "execution_count": 110,
      "outputs": []
    },
    {
      "cell_type": "code",
      "source": [
        "#Import scikit-learn metrics module for accuracy calculation\n",
        "from sklearn import metrics\n",
        "# Model Accuracy, how often is the classifier correct?\n",
        "print(\"Accuracy:\",metrics.accuracy_score(Y_test, y_pred))"
      ],
      "metadata": {
        "colab": {
          "base_uri": "https://localhost:8080/"
        },
        "id": "skfjqV0Drc7Z",
        "outputId": "992eb7f3-d5fb-4fc9-b17a-e2f085b3c9bf"
      },
      "execution_count": 111,
      "outputs": [
        {
          "output_type": "stream",
          "name": "stdout",
          "text": [
            "Accuracy: 0.9298245614035088\n"
          ]
        }
      ]
    },
    {
      "cell_type": "code",
      "source": [
        "#testing a sample data\n",
        "\n",
        "sample = X_test.iloc[0]\n",
        "sample.Stemcellsource = 1\n",
        "sample.survival_time = 15640\n",
        "sample.Diseasegroup = 0"
      ],
      "metadata": {
        "id": "3l3fO5n5uYSb"
      },
      "execution_count": 139,
      "outputs": []
    },
    {
      "cell_type": "code",
      "source": [
        "import warnings\n",
        "warnings.filterwarnings('ignore')\n",
        "\n",
        "if(clf.predict([sample])[0]== 1):\n",
        "  print(\"Survive\")\n",
        "else:\n",
        "  print(\"Not Survive\")"
      ],
      "metadata": {
        "colab": {
          "base_uri": "https://localhost:8080/"
        },
        "id": "KGvj7ypLuRNE",
        "outputId": "89b950c6-5d92-4c2f-b6db-4da829c3a780"
      },
      "execution_count": 138,
      "outputs": [
        {
          "output_type": "stream",
          "name": "stdout",
          "text": [
            "Not Survive\n"
          ]
        }
      ]
    }
  ]
}